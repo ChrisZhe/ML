{
 "cells": [
  {
   "cell_type": "code",
   "execution_count": 2,
   "metadata": {
    "collapsed": false,
    "deletable": true,
    "editable": true
   },
   "outputs": [
    {
     "data": {
      "text/html": [
       "<div>\n",
       "<table border=\"1\" class=\"dataframe\">\n",
       "  <thead>\n",
       "    <tr style=\"text-align: right;\">\n",
       "      <th></th>\n",
       "      <th>id</th>\n",
       "      <th>id_str</th>\n",
       "      <th>screen_name</th>\n",
       "      <th>location</th>\n",
       "      <th>description</th>\n",
       "      <th>url</th>\n",
       "      <th>followers_count</th>\n",
       "      <th>friends_count</th>\n",
       "      <th>listedcount</th>\n",
       "      <th>created_at</th>\n",
       "      <th>favourites_count</th>\n",
       "      <th>verified</th>\n",
       "      <th>statuses_count</th>\n",
       "      <th>lang</th>\n",
       "      <th>status</th>\n",
       "      <th>default_profile</th>\n",
       "      <th>default_profile_image</th>\n",
       "      <th>has_extended_profile</th>\n",
       "      <th>name</th>\n",
       "      <th>bot</th>\n",
       "    </tr>\n",
       "  </thead>\n",
       "  <tbody>\n",
       "    <tr>\n",
       "      <th>0</th>\n",
       "      <td>3.982732e+09</td>\n",
       "      <td>3982731976</td>\n",
       "      <td>mcgucket_bot</td>\n",
       "      <td>NaN</td>\n",
       "      <td>A bot that tweets every line said by Fiddlefor...</td>\n",
       "      <td>NaN</td>\n",
       "      <td>1129</td>\n",
       "      <td>7</td>\n",
       "      <td>2</td>\n",
       "      <td>Sat Oct 17 22:35:31 +0000 2015</td>\n",
       "      <td>0</td>\n",
       "      <td>False</td>\n",
       "      <td>23557</td>\n",
       "      <td>en</td>\n",
       "      <td>{'retweeted': False, 'is_quote_status': False,...</td>\n",
       "      <td>False</td>\n",
       "      <td>False</td>\n",
       "      <td>False</td>\n",
       "      <td>McGucket bot</td>\n",
       "      <td>1</td>\n",
       "    </tr>\n",
       "    <tr>\n",
       "      <th>1</th>\n",
       "      <td>8.410000e+17</td>\n",
       "      <td>8.41E+17</td>\n",
       "      <td>BowieK66</td>\n",
       "      <td>NaN</td>\n",
       "      <td>NaN</td>\n",
       "      <td>NaN</td>\n",
       "      <td>0</td>\n",
       "      <td>22</td>\n",
       "      <td>0</td>\n",
       "      <td>13/03/2017 22:21</td>\n",
       "      <td>0</td>\n",
       "      <td>False</td>\n",
       "      <td>1</td>\n",
       "      <td>en</td>\n",
       "      <td>Status(_api=&lt;tweepy.api.API object at 0x101927...</td>\n",
       "      <td>True</td>\n",
       "      <td>True</td>\n",
       "      <td>False</td>\n",
       "      <td>MJ Kuhn</td>\n",
       "      <td>1</td>\n",
       "    </tr>\n",
       "  </tbody>\n",
       "</table>\n",
       "</div>"
      ],
      "text/plain": [
       "             id      id_str   screen_name location  \\\n",
       "0  3.982732e+09  3982731976  mcgucket_bot      NaN   \n",
       "1  8.410000e+17    8.41E+17      BowieK66      NaN   \n",
       "\n",
       "                                         description  url  followers_count  \\\n",
       "0  A bot that tweets every line said by Fiddlefor...  NaN             1129   \n",
       "1                                                NaN  NaN                0   \n",
       "\n",
       "   friends_count  listedcount                      created_at  \\\n",
       "0              7            2  Sat Oct 17 22:35:31 +0000 2015   \n",
       "1             22            0                13/03/2017 22:21   \n",
       "\n",
       "   favourites_count verified  statuses_count lang  \\\n",
       "0                 0    False           23557   en   \n",
       "1                 0    False               1   en   \n",
       "\n",
       "                                              status default_profile  \\\n",
       "0  {'retweeted': False, 'is_quote_status': False,...           False   \n",
       "1  Status(_api=<tweepy.api.API object at 0x101927...            True   \n",
       "\n",
       "  default_profile_image has_extended_profile          name  bot  \n",
       "0                 False                False  McGucket bot    1  \n",
       "1                  True                False       MJ Kuhn    1  "
      ]
     },
     "execution_count": 2,
     "metadata": {},
     "output_type": "execute_result"
    }
   ],
   "source": [
    "import pandas as pd\n",
    "import numpy as np\n",
    "\n",
    "bots=pd.read_csv('bots_data.csv')\n",
    "nonbots=pd.read_csv('nonbots_data.csv')\n",
    "bots.head(2)"
   ]
  },
  {
   "cell_type": "markdown",
   "metadata": {},
   "source": [
    "    Read the two csv files bots_data.csv and nonbots_data.csv"
   ]
  },
  {
   "cell_type": "code",
   "execution_count": 3,
   "metadata": {
    "collapsed": false,
    "deletable": true,
    "editable": true
   },
   "outputs": [],
   "source": [
    "bots_attributes=bots[bots.columns.tolist()[:-1]]\n",
    "bots_label=bots[bots.columns.tolist()[-1:]]\n",
    "nonbots_attributes=nonbots[nonbots.columns.tolist()[:-1]]\n",
    "nonbots_label=nonbots[nonbots.columns.tolist()[-1:]]"
   ]
  },
  {
   "cell_type": "markdown",
   "metadata": {},
   "source": [
    "    Convert the files that we read into list, The columns from the first to the last but one are attributes of the accounts, and the last one is the label of the acount whether the account is bot or not. "
   ]
  },
  {
   "cell_type": "code",
   "execution_count": 15,
   "metadata": {
    "collapsed": false,
    "deletable": true,
    "editable": true
   },
   "outputs": [],
   "source": [
    "m=pd.concat([bots_attributes,nonbots_attributes])\n",
    "n=pd.concat([bots_label,nonbots_label])"
   ]
  },
  {
   "cell_type": "markdown",
   "metadata": {},
   "source": [
    "    Concatenate the two list of attributes into one list as well as the list of label. "
   ]
  },
  {
   "cell_type": "code",
   "execution_count": 16,
   "metadata": {
    "collapsed": false,
    "deletable": true,
    "editable": true
   },
   "outputs": [],
   "source": [
    "from sklearn.cross_validation import train_test_split"
   ]
  },
  {
   "cell_type": "code",
   "execution_count": 17,
   "metadata": {
    "collapsed": false,
    "deletable": true,
    "editable": true
   },
   "outputs": [],
   "source": [
    "m_train_1,m_test_1,n_train,n_test=train_test_split(m,n,random_state=2)\n",
    "m_train_1=m_train_1.fillna(value=0)\n",
    "m_test_1=m_test_1.fillna(value=0)"
   ]
  },
  {
   "cell_type": "markdown",
   "metadata": {},
   "source": [
    "    split the whole dataset into two parts, for one part, we will use it to train the machine, and for the other part, we will use it to cross validate our experiment."
   ]
  },
  {
   "cell_type": "code",
   "execution_count": 18,
   "metadata": {
    "collapsed": true
   },
   "outputs": [],
   "source": [
    "m_train_1=m_train_1.apply(pd.to_numeric,errors='coerce')\n",
    "m_test_1=m_test_1.apply(pd.to_numeric,errors='coerce')\n",
    "n_train=n_train.apply(pd.to_numeric,errors='coerce')\n",
    "n_test=n_test.apply(pd.to_numeric,errors='coerce')"
   ]
  },
  {
   "cell_type": "markdown",
   "metadata": {},
   "source": [
    "    convert all the content to number"
   ]
  },
  {
   "cell_type": "code",
   "execution_count": 19,
   "metadata": {
    "collapsed": false
   },
   "outputs": [
    {
     "data": {
      "text/plain": [
       "0    1460\n",
       "1     214\n",
       "Name: has_extended_profile, dtype: int64"
      ]
     },
     "execution_count": 19,
     "metadata": {},
     "output_type": "execute_result"
    }
   ],
   "source": [
    "m_train_1=m_train_1.fillna(value=1)\n",
    "n_train=n_train.fillna(value=1)\n",
    "m_test_1=m_test_1.fillna(value=1)\n",
    "n_test=n_test.fillna(value=1)\n",
    "\n",
    "pd.value_counts(m_train_1['has_extended_profile'])"
   ]
  },
  {
   "cell_type": "markdown",
   "metadata": {},
   "source": [
    "    Because in python, the py.to_numeric cannot turn text into digit directly, the first time we use this function, we can only turn the null value into 0 and the not null value into Na/NaN, then we reuse the function py.to_numeric to make the Na/NaN to be value 1"
   ]
  },
  {
   "cell_type": "code",
   "execution_count": 9,
   "metadata": {
    "collapsed": false,
    "deletable": true,
    "editable": true
   },
   "outputs": [],
   "source": [
    "from sklearn.naive_bayes import BernoulliNB\n",
    "from sklearn import tree\n",
    "from sklearn.cross_validation import cross_val_score"
   ]
  },
  {
   "cell_type": "code",
   "execution_count": 20,
   "metadata": {
    "collapsed": false,
    "deletable": true,
    "editable": true
   },
   "outputs": [],
   "source": [
    "import math\n",
    "\n",
    "m_train=m_train_1.fillna(value=1)\n",
    "n_train=n_train.fillna(value=1)\n",
    "m_test=m_test_1.fillna(value=1)\n",
    "n_test=n_test.fillna(value=1)\n",
    "\n",
    "for i in m_train.index:\n",
    "    m_train.set_value(i,'id',1)\n",
    "    m_train.set_value(i,'id_str',1)\n",
    "\n",
    "for i in m_test.index:\n",
    "    m_test.set_value(i,'id',1)\n",
    "    m_test.set_value(i,'id_str',1)"
   ]
  },
  {
   "cell_type": "markdown",
   "metadata": {},
   "source": [
    "    for all the attributes that we will not utilize them in our experiment, we will all convert them into ‘1’ in order to not affect our result. "
   ]
  },
  {
   "cell_type": "code",
   "execution_count": 32,
   "metadata": {
    "collapsed": false
   },
   "outputs": [
    {
     "data": {
      "text/html": [
       "<div>\n",
       "<table border=\"1\" class=\"dataframe\">\n",
       "  <thead>\n",
       "    <tr style=\"text-align: right;\">\n",
       "      <th></th>\n",
       "      <th>id</th>\n",
       "      <th>id_str</th>\n",
       "      <th>screen_name</th>\n",
       "      <th>location</th>\n",
       "      <th>description</th>\n",
       "      <th>url</th>\n",
       "      <th>followers_count</th>\n",
       "      <th>friends_count</th>\n",
       "      <th>listedcount</th>\n",
       "      <th>created_at</th>\n",
       "      <th>favourites_count</th>\n",
       "      <th>verified</th>\n",
       "      <th>statuses_count</th>\n",
       "      <th>lang</th>\n",
       "      <th>status</th>\n",
       "      <th>default_profile</th>\n",
       "      <th>default_profile_image</th>\n",
       "      <th>has_extended_profile</th>\n",
       "      <th>name</th>\n",
       "    </tr>\n",
       "  </thead>\n",
       "  <tbody>\n",
       "    <tr>\n",
       "      <th>684</th>\n",
       "      <td>1.0</td>\n",
       "      <td>1.0</td>\n",
       "      <td>1.0</td>\n",
       "      <td>1.0</td>\n",
       "      <td>1.0</td>\n",
       "      <td>1.0</td>\n",
       "      <td>0</td>\n",
       "      <td>0</td>\n",
       "      <td>0</td>\n",
       "      <td>1.0</td>\n",
       "      <td>0</td>\n",
       "      <td>False</td>\n",
       "      <td>0</td>\n",
       "      <td>1.0</td>\n",
       "      <td>1.0</td>\n",
       "      <td>True</td>\n",
       "      <td>False</td>\n",
       "      <td>0</td>\n",
       "      <td>1.0</td>\n",
       "    </tr>\n",
       "    <tr>\n",
       "      <th>434</th>\n",
       "      <td>1.0</td>\n",
       "      <td>1.0</td>\n",
       "      <td>1.0</td>\n",
       "      <td>1.0</td>\n",
       "      <td>1.0</td>\n",
       "      <td>1.0</td>\n",
       "      <td>0</td>\n",
       "      <td>0</td>\n",
       "      <td>0</td>\n",
       "      <td>1.0</td>\n",
       "      <td>0</td>\n",
       "      <td>True</td>\n",
       "      <td>0</td>\n",
       "      <td>1.0</td>\n",
       "      <td>1.0</td>\n",
       "      <td>False</td>\n",
       "      <td>False</td>\n",
       "      <td>0</td>\n",
       "      <td>1.0</td>\n",
       "    </tr>\n",
       "    <tr>\n",
       "      <th>807</th>\n",
       "      <td>1.0</td>\n",
       "      <td>1.0</td>\n",
       "      <td>1.0</td>\n",
       "      <td>1.0</td>\n",
       "      <td>1.0</td>\n",
       "      <td>1.0</td>\n",
       "      <td>0</td>\n",
       "      <td>0</td>\n",
       "      <td>0</td>\n",
       "      <td>1.0</td>\n",
       "      <td>0</td>\n",
       "      <td>True</td>\n",
       "      <td>0</td>\n",
       "      <td>1.0</td>\n",
       "      <td>1.0</td>\n",
       "      <td>False</td>\n",
       "      <td>False</td>\n",
       "      <td>0</td>\n",
       "      <td>1.0</td>\n",
       "    </tr>\n",
       "    <tr>\n",
       "      <th>2</th>\n",
       "      <td>1.0</td>\n",
       "      <td>1.0</td>\n",
       "      <td>1.0</td>\n",
       "      <td>0.0</td>\n",
       "      <td>0.0</td>\n",
       "      <td>0.0</td>\n",
       "      <td>0</td>\n",
       "      <td>0</td>\n",
       "      <td>0</td>\n",
       "      <td>1.0</td>\n",
       "      <td>0</td>\n",
       "      <td>False</td>\n",
       "      <td>0</td>\n",
       "      <td>1.0</td>\n",
       "      <td>1.0</td>\n",
       "      <td>True</td>\n",
       "      <td>False</td>\n",
       "      <td>0</td>\n",
       "      <td>1.0</td>\n",
       "    </tr>\n",
       "    <tr>\n",
       "      <th>926</th>\n",
       "      <td>1.0</td>\n",
       "      <td>1.0</td>\n",
       "      <td>1.0</td>\n",
       "      <td>1.0</td>\n",
       "      <td>1.0</td>\n",
       "      <td>1.0</td>\n",
       "      <td>0</td>\n",
       "      <td>0</td>\n",
       "      <td>0</td>\n",
       "      <td>1.0</td>\n",
       "      <td>0</td>\n",
       "      <td>True</td>\n",
       "      <td>0</td>\n",
       "      <td>1.0</td>\n",
       "      <td>1.0</td>\n",
       "      <td>False</td>\n",
       "      <td>False</td>\n",
       "      <td>1</td>\n",
       "      <td>1.0</td>\n",
       "    </tr>\n",
       "  </tbody>\n",
       "</table>\n",
       "</div>"
      ],
      "text/plain": [
       "      id  id_str  screen_name  location  description  url  followers_count  \\\n",
       "684  1.0     1.0          1.0       1.0          1.0  1.0                0   \n",
       "434  1.0     1.0          1.0       1.0          1.0  1.0                0   \n",
       "807  1.0     1.0          1.0       1.0          1.0  1.0                0   \n",
       "2    1.0     1.0          1.0       0.0          0.0  0.0                0   \n",
       "926  1.0     1.0          1.0       1.0          1.0  1.0                0   \n",
       "\n",
       "     friends_count  listedcount  created_at  favourites_count verified  \\\n",
       "684              0            0         1.0                 0    False   \n",
       "434              0            0         1.0                 0     True   \n",
       "807              0            0         1.0                 0     True   \n",
       "2                0            0         1.0                 0    False   \n",
       "926              0            0         1.0                 0     True   \n",
       "\n",
       "     statuses_count  lang  status default_profile default_profile_image  \\\n",
       "684               0   1.0     1.0            True                 False   \n",
       "434               0   1.0     1.0           False                 False   \n",
       "807               0   1.0     1.0           False                 False   \n",
       "2                 0   1.0     1.0            True                 False   \n",
       "926               0   1.0     1.0           False                 False   \n",
       "\n",
       "     has_extended_profile  name  \n",
       "684                     0   1.0  \n",
       "434                     0   1.0  \n",
       "807                     0   1.0  \n",
       "2                       0   1.0  \n",
       "926                     1   1.0  "
      ]
     },
     "execution_count": 32,
     "metadata": {},
     "output_type": "execute_result"
    }
   ],
   "source": [
    "def log_convert(df):\n",
    "    cou=df.columns.tolist()\n",
    "    counts_list= [cou[6]]\n",
    "    for col in counts_list:\n",
    "        alist=[]\n",
    "        for i in df[col]:\n",
    "            alist.append(i)\n",
    "        for i in range(len(alist)):\n",
    "            if alist[i]>6:\n",
    "                alist[i]=1\n",
    "            else: alist[i]=0\n",
    "        selist=pd.Series(alist,index=df.index)\n",
    "        df[col]=selist\n",
    "    for col in [cou[7]]:\n",
    "        alist=[]\n",
    "        for i in df[col]:\n",
    "            alist.append(i)\n",
    "        for i in range(len(alist)):\n",
    "            if alist[i]>15:\n",
    "                alist[i]=1\n",
    "            else: alist[i]=0\n",
    "        selist=pd.Series(alist,index=df.index)\n",
    "        df[col]=selist\n",
    "    for col in [cou[8]]:\n",
    "        alist=[]\n",
    "        for i in df[col]:\n",
    "            alist.append(i)\n",
    "        for i in range(len(alist)):\n",
    "            if alist[i]>300:\n",
    "                alist[i]=1\n",
    "            else: alist[i]=0\n",
    "        selist=pd.Series(alist,index=df.index)\n",
    "        df[col]=selist\n",
    "\n",
    "    for col in [cou[10]]:\n",
    "        alist=[]\n",
    "        for i in df[col]:\n",
    "            alist.append(i)\n",
    "        for i in range(len(alist)):\n",
    "            if alist[i]>4:\n",
    "                alist[i]=1\n",
    "            else: alist[i]=0\n",
    "        selist=pd.Series(alist,index=df.index)\n",
    "        df[col]=selist\n",
    "\n",
    "    for col in [cou[12]]:\n",
    "        alist=[]\n",
    "        for i in df[col]:\n",
    "            alist.append(i)\n",
    "        for i in range(len(alist)):\n",
    "            if alist[i]>2:\n",
    "                alist[i]=1\n",
    "            else: alist[i]=0\n",
    "        selist=pd.Series(alist,index=df.index)\n",
    "        df[col]=selist\n",
    "\n",
    "    \n",
    "log_convert(m_train)\n",
    "log_convert(m_test)\n",
    "\n",
    "\n",
    "m_train.head(5)"
   ]
  },
  {
   "cell_type": "markdown",
   "metadata": {},
   "source": [
    "    By observing the dataset, we find a better way to define the classes. For example, the attribute followers_count, we can find that when the number of accounts is less than 6, the possibility of the account is bot is much larger than the accounts which have more than 6 followers. So we define the the value that less than or equal to 6 as ‘0’, the value more than 6 as ‘1’.\n"
   ]
  },
  {
   "cell_type": "code",
   "execution_count": 24,
   "metadata": {
    "collapsed": false,
    "deletable": true,
    "editable": true
   },
   "outputs": [
    {
     "name": "stdout",
     "output_type": "stream",
     "text": [
      "1    1485\n",
      "0     189\n",
      "Name: followers_count, dtype: int64\n",
      "1    1227\n",
      "0     447\n",
      "Name: friends_count, dtype: int64\n",
      "0    1252\n",
      "1     422\n",
      "Name: listedcount, dtype: int64\n",
      "1    1028\n",
      "0     646\n",
      "Name: favourites_count, dtype: int64\n",
      "1    1572\n",
      "0     102\n",
      "Name: statuses_count, dtype: int64\n"
     ]
    }
   ],
   "source": [
    "columns=m_train.columns.tolist()\n",
    "counts_list= [columns[6],columns[7],columns[8],columns[10],columns[12]]\n",
    "\n",
    "for i in counts_list:\n",
    "    print pd.value_counts(m_train[i])"
   ]
  },
  {
   "cell_type": "markdown",
   "metadata": {},
   "source": [
    "    count the test dataset "
   ]
  },
  {
   "cell_type": "code",
   "execution_count": 25,
   "metadata": {
    "collapsed": false,
    "deletable": true,
    "editable": true
   },
   "outputs": [
    {
     "name": "stderr",
     "output_type": "stream",
     "text": [
      "/Users/chenyunzhe/anaconda/lib/python2.7/site-packages/sklearn/utils/validation.py:526: DataConversionWarning: A column-vector y was passed when a 1d array was expected. Please change the shape of y to (n_samples, ), for example using ravel().\n",
      "  y = column_or_1d(y, warn=True)\n"
     ]
    }
   ],
   "source": [
    "clfBN=BernoulliNB()\n",
    "clfDT=tree.DecisionTreeClassifier()\n",
    "clfBN=clfBN.fit(m_train,n_train)\n",
    "clfDT=clfDT.fit(m_train,n_train)"
   ]
  },
  {
   "cell_type": "code",
   "execution_count": 27,
   "metadata": {
    "collapsed": false,
    "deletable": true,
    "editable": true
   },
   "outputs": [],
   "source": [
    "from sklearn import metrics\n",
    "class predictScore():\n",
    "    accuracy=0\n",
    "    precision=0\n",
    "    recall=0\n",
    "    f1=0\n",
    "    auc=0\n",
    "    clf=None\n",
    "    name=''\n",
    "    def __init__(self,classifier,name_str):\n",
    "        self.clf = classifier\n",
    "        self.name=name_str\n",
    "        \n",
    "predict_score_BN=predictScore(clfBN,'BernoulliNB')\n",
    "predict_score_DT=predictScore(clfDT,'Decision Tree')       \n",
    "predicted_scores=[predict_score_BN,predict_score_DT]\n",
    "\n",
    "for i in predicted_scores:\n",
    "    predicted=i.clf.predict(m_test)\n",
    "    i.accuracy=metrics.accuracy_score(predicted,n_test['bot'])\n",
    "    i.precision=metrics.precision_score(predicted,n_test['bot'])\n",
    "    i.recall=metrics.recall_score(predicted,n_test['bot'])\n",
    "    i.f1=metrics.f1_score(predicted,n_test['bot'])   \n",
    "    i.auc=metrics.roc_auc_score(predicted,n_test['bot'])"
   ]
  },
  {
   "cell_type": "code",
   "execution_count": 28,
   "metadata": {
    "collapsed": false,
    "deletable": true,
    "editable": true
   },
   "outputs": [
    {
     "name": "stdout",
     "output_type": "stream",
     "text": [
      "\n",
      "BernoulliNB\n",
      "('Accuracy  =', 0.83333333333333337)\n",
      "('Precision =', 0.86770428015564205)\n",
      "('Recall    =', 0.79078014184397161)\n",
      "('F1        =', 0.82745825602968459)\n",
      "('Auc score =', 0.83379586802343497)\n",
      "\n",
      "Decision Tree\n",
      "('Accuracy  =', 0.82437275985663083)\n",
      "('Precision =', 0.78988326848249024)\n",
      "('Recall    =', 0.82186234817813764)\n",
      "('F1        =', 0.80555555555555547)\n",
      "('Auc score =', 0.82411445383183413)\n"
     ]
    }
   ],
   "source": [
    "for i in predicted_scores:\n",
    "    print '\\n',i.name\n",
    "    print ('Accuracy  =',i.accuracy)\n",
    "    print ('Precision =',i.precision)\n",
    "    print ('Recall    =',i.recall)\n",
    "    print ('F1        =',i.f1)\n",
    "    print ('Auc score =',i.auc)"
   ]
  },
  {
   "cell_type": "code",
   "execution_count": 29,
   "metadata": {
    "collapsed": false,
    "deletable": true,
    "editable": true
   },
   "outputs": [
    {
     "data": {
      "text/html": [
       "<div>\n",
       "<table border=\"1\" class=\"dataframe\">\n",
       "  <thead>\n",
       "    <tr style=\"text-align: right;\">\n",
       "      <th></th>\n",
       "      <th>id</th>\n",
       "      <th>id_str</th>\n",
       "      <th>screen_name</th>\n",
       "      <th>location</th>\n",
       "      <th>description</th>\n",
       "      <th>url</th>\n",
       "      <th>followers_count</th>\n",
       "      <th>friends_count</th>\n",
       "      <th>listedcount</th>\n",
       "      <th>created_at</th>\n",
       "      <th>favourites_count</th>\n",
       "      <th>verified</th>\n",
       "      <th>statuses_count</th>\n",
       "      <th>lang</th>\n",
       "      <th>status</th>\n",
       "      <th>default_profile</th>\n",
       "      <th>default_profile_image</th>\n",
       "      <th>has_extended_profile</th>\n",
       "      <th>name</th>\n",
       "    </tr>\n",
       "  </thead>\n",
       "  <tbody>\n",
       "    <tr>\n",
       "      <th>684</th>\n",
       "      <td>1.0</td>\n",
       "      <td>1.0</td>\n",
       "      <td>1.0</td>\n",
       "      <td>1.0</td>\n",
       "      <td>1.0</td>\n",
       "      <td>1.0</td>\n",
       "      <td>1</td>\n",
       "      <td>0</td>\n",
       "      <td>0</td>\n",
       "      <td>1.0</td>\n",
       "      <td>0</td>\n",
       "      <td>False</td>\n",
       "      <td>1</td>\n",
       "      <td>1.0</td>\n",
       "      <td>1.0</td>\n",
       "      <td>True</td>\n",
       "      <td>False</td>\n",
       "      <td>0</td>\n",
       "      <td>1.0</td>\n",
       "    </tr>\n",
       "    <tr>\n",
       "      <th>434</th>\n",
       "      <td>1.0</td>\n",
       "      <td>1.0</td>\n",
       "      <td>1.0</td>\n",
       "      <td>1.0</td>\n",
       "      <td>1.0</td>\n",
       "      <td>1.0</td>\n",
       "      <td>1</td>\n",
       "      <td>1</td>\n",
       "      <td>1</td>\n",
       "      <td>1.0</td>\n",
       "      <td>1</td>\n",
       "      <td>True</td>\n",
       "      <td>1</td>\n",
       "      <td>1.0</td>\n",
       "      <td>1.0</td>\n",
       "      <td>False</td>\n",
       "      <td>False</td>\n",
       "      <td>0</td>\n",
       "      <td>1.0</td>\n",
       "    </tr>\n",
       "    <tr>\n",
       "      <th>807</th>\n",
       "      <td>1.0</td>\n",
       "      <td>1.0</td>\n",
       "      <td>1.0</td>\n",
       "      <td>1.0</td>\n",
       "      <td>1.0</td>\n",
       "      <td>1.0</td>\n",
       "      <td>1</td>\n",
       "      <td>0</td>\n",
       "      <td>1</td>\n",
       "      <td>1.0</td>\n",
       "      <td>1</td>\n",
       "      <td>True</td>\n",
       "      <td>1</td>\n",
       "      <td>1.0</td>\n",
       "      <td>1.0</td>\n",
       "      <td>False</td>\n",
       "      <td>False</td>\n",
       "      <td>0</td>\n",
       "      <td>1.0</td>\n",
       "    </tr>\n",
       "    <tr>\n",
       "      <th>2</th>\n",
       "      <td>1.0</td>\n",
       "      <td>1.0</td>\n",
       "      <td>1.0</td>\n",
       "      <td>0.0</td>\n",
       "      <td>0.0</td>\n",
       "      <td>0.0</td>\n",
       "      <td>0</td>\n",
       "      <td>0</td>\n",
       "      <td>0</td>\n",
       "      <td>1.0</td>\n",
       "      <td>0</td>\n",
       "      <td>False</td>\n",
       "      <td>1</td>\n",
       "      <td>1.0</td>\n",
       "      <td>1.0</td>\n",
       "      <td>True</td>\n",
       "      <td>False</td>\n",
       "      <td>0</td>\n",
       "      <td>1.0</td>\n",
       "    </tr>\n",
       "    <tr>\n",
       "      <th>926</th>\n",
       "      <td>1.0</td>\n",
       "      <td>1.0</td>\n",
       "      <td>1.0</td>\n",
       "      <td>1.0</td>\n",
       "      <td>1.0</td>\n",
       "      <td>1.0</td>\n",
       "      <td>1</td>\n",
       "      <td>1</td>\n",
       "      <td>1</td>\n",
       "      <td>1.0</td>\n",
       "      <td>1</td>\n",
       "      <td>True</td>\n",
       "      <td>1</td>\n",
       "      <td>1.0</td>\n",
       "      <td>1.0</td>\n",
       "      <td>False</td>\n",
       "      <td>False</td>\n",
       "      <td>1</td>\n",
       "      <td>1.0</td>\n",
       "    </tr>\n",
       "  </tbody>\n",
       "</table>\n",
       "</div>"
      ],
      "text/plain": [
       "      id  id_str  screen_name  location  description  url  followers_count  \\\n",
       "684  1.0     1.0          1.0       1.0          1.0  1.0                1   \n",
       "434  1.0     1.0          1.0       1.0          1.0  1.0                1   \n",
       "807  1.0     1.0          1.0       1.0          1.0  1.0                1   \n",
       "2    1.0     1.0          1.0       0.0          0.0  0.0                0   \n",
       "926  1.0     1.0          1.0       1.0          1.0  1.0                1   \n",
       "\n",
       "     friends_count  listedcount  created_at  favourites_count verified  \\\n",
       "684              0            0         1.0                 0    False   \n",
       "434              1            1         1.0                 1     True   \n",
       "807              0            1         1.0                 1     True   \n",
       "2                0            0         1.0                 0    False   \n",
       "926              1            1         1.0                 1     True   \n",
       "\n",
       "     statuses_count  lang  status default_profile default_profile_image  \\\n",
       "684               1   1.0     1.0            True                 False   \n",
       "434               1   1.0     1.0           False                 False   \n",
       "807               1   1.0     1.0           False                 False   \n",
       "2                 1   1.0     1.0            True                 False   \n",
       "926               1   1.0     1.0           False                 False   \n",
       "\n",
       "     has_extended_profile  name  \n",
       "684                     0   1.0  \n",
       "434                     0   1.0  \n",
       "807                     0   1.0  \n",
       "2                       0   1.0  \n",
       "926                     1   1.0  "
      ]
     },
     "execution_count": 29,
     "metadata": {},
     "output_type": "execute_result"
    }
   ],
   "source": [
    "class CrossValueScore:\n",
    "    accuracy=0\n",
    "    precision=0\n",
    "    recall=0\n",
    "    f1=0\n",
    "    auc=0\n",
    "    clf=None\n",
    "    name=''\n",
    "    def __init__(self,classifier,name_str):\n",
    "        self.clf = classifier\n",
    "        self.name=name_str\n",
    "cross_score_BN=CrossValueScore(clfBN,'BernoulliNB')\n",
    "cross_score_DT=CrossValueScore(clfDT,'Decision Tree')\n",
    "\n",
    "\n",
    "scores=[cross_score_BN,cross_score_DT]\n",
    "\n",
    "for i in scores:\n",
    "    i.accuracy=cross_val_score(i.clf,m_train,n_train['bot'],scoring='accuracy',cv=10)\n",
    "    i.precision=cross_val_score(i.clf,m_train,n_train['bot'],scoring='precision',cv=10)\n",
    "    i.recall=cross_val_score(i.clf,m_train,n_train['bot'],scoring='recall',cv=10)\n",
    "    i.f1=cross_val_score(i.clf,m_train,n_train['bot'],scoring='f1',cv=10)\n",
    "    i.auc=cross_val_score(i.clf,m_train,n_train['bot'],scoring='roc_auc',cv=10)\n",
    "m_train.head(5)\n",
    "    "
   ]
  },
  {
   "cell_type": "code",
   "execution_count": 30,
   "metadata": {
    "collapsed": false,
    "deletable": true,
    "editable": true
   },
   "outputs": [
    {
     "name": "stdout",
     "output_type": "stream",
     "text": [
      "\n",
      "BernoulliNB\n",
      "('Accuracy  =', array([ 0.79761905,  0.82738095,  0.85714286,  0.83928571,  0.83333333,\n",
      "        0.78443114,  0.83233533,  0.76646707,  0.8502994 ,  0.8253012 ]))\n",
      "('Precision =', array([ 0.75555556,  0.80722892,  0.81111111,  0.81176471,  0.80952381,\n",
      "        0.74444444,  0.825     ,  0.74698795,  0.81609195,  0.78409091]))\n",
      "('Recall    =', array([ 0.85      ,  0.8375    ,  0.9125    ,  0.8625    ,  0.85      ,\n",
      "        0.8375    ,  0.825     ,  0.775     ,  0.8875    ,  0.87341772]))\n",
      "('F1        =', array([ 0.8       ,  0.82208589,  0.85882353,  0.83636364,  0.82926829,\n",
      "        0.78823529,  0.825     ,  0.7607362 ,  0.8502994 ,  0.82634731]))\n",
      "('Auc score =', array([ 0.90610795,  0.87705966,  0.91413352,  0.90667614,  0.91221591,\n",
      "        0.86760057,  0.89849138,  0.87363506,  0.90222701,  0.93670886]))\n",
      "\n",
      "Decision Tree\n",
      "('Accuracy  =', array([ 0.82738095,  0.86309524,  0.85714286,  0.85714286,  0.85714286,\n",
      "        0.79041916,  0.83233533,  0.79640719,  0.8742515 ,  0.8313253 ]))\n",
      "('Precision =', array([ 0.84931507,  0.85897436,  0.86842105,  0.87837838,  0.88888889,\n",
      "        0.77777778,  0.86111111,  0.859375  ,  0.91428571,  0.85915493]))\n",
      "('Recall    =', array([ 0.7875   ,  0.8375   ,  0.825    ,  0.8125   ,  0.8      ,\n",
      "        0.7875   ,  0.7625   ,  0.6875   ,  0.8      ,  0.7721519]))\n",
      "('F1        =', array([ 0.81578947,  0.85350318,  0.83870968,  0.84415584,  0.84210526,\n",
      "        0.775     ,  0.81578947,  0.76388889,  0.86092715,  0.81333333]))\n",
      "('Auc score =', array([ 0.88267045,  0.91647727,  0.87294034,  0.9037642 ,  0.92024148,\n",
      "        0.80272989,  0.88225575,  0.83433908,  0.90826149,  0.89975266]))\n"
     ]
    }
   ],
   "source": [
    "for i in scores:\n",
    "    print '\\n',i.name\n",
    "    print ('Accuracy  =',i.accuracy)\n",
    "    print ('Precision =',i.precision)\n",
    "    print ('Recall    =',i.recall)\n",
    "    print ('F1        =',i.f1)\n",
    "    print ('Auc score =',i.auc)"
   ]
  },
  {
   "cell_type": "code",
   "execution_count": 31,
   "metadata": {
    "collapsed": false
   },
   "outputs": [
    {
     "name": "stdout",
     "output_type": "stream",
     "text": [
      "('BNaccuracy  =', 0.82135960437129185)\n",
      "('BNPrecision =', 0.79117993571010503)\n",
      "('BNRecall    =', 0.8510917721518988)\n",
      "('BNF1        =', 0.81971595450523704)\n",
      "('BNAuc score =', 0.89948560655661802)\n"
     ]
    }
   ],
   "source": [
    "a=np.mean(cross_score_BN.accuracy)\n",
    "b=np.mean(cross_score_BN.precision)\n",
    "c=np.mean(cross_score_BN.recall)\n",
    "d=np.mean(cross_score_BN.f1)\n",
    "e=np.mean(cross_score_BN.auc)\n",
    "   \n",
    "print ('BNaccuracy  =',a)\n",
    "print ('BNPrecision =',b)\n",
    "print ('BNRecall    =',c)\n",
    "print ('BNF1        =',d)\n",
    "print ('BNAuc score =',e)"
   ]
  },
  {
   "cell_type": "code",
   "execution_count": 33,
   "metadata": {
    "collapsed": false
   },
   "outputs": [
    {
     "name": "stdout",
     "output_type": "stream",
     "text": [
      "('DTaccuracy  =', 0.83866432367622745)\n",
      "('DTPrecision =', 0.86156822801184241)\n",
      "('DTRecall    =', 0.78721518987341765)\n",
      "('DTF1        =', 0.8223202291354994)\n",
      "('DTAuc score =', 0.88234326122144624)\n"
     ]
    }
   ],
   "source": [
    "a=np.mean(cross_score_DT.accuracy)\n",
    "b=np.mean(cross_score_DT.precision)\n",
    "c=np.mean(cross_score_DT.recall)\n",
    "d=np.mean(cross_score_DT.f1)\n",
    "e=np.mean(cross_score_DT.auc)\n",
    "\n",
    "\n",
    "print ('DTaccuracy  =',a)\n",
    "print ('DTPrecision =',b)\n",
    "print ('DTRecall    =',c)\n",
    "print ('DTF1        =',d)\n",
    "print ('DTAuc score =',e)"
   ]
  },
  {
   "cell_type": "markdown",
   "metadata": {
    "collapsed": true
   },
   "source": [
    "    calculate the mean of the values of the cross validation in order to compare the two algorithm visually."
   ]
  },
  {
   "cell_type": "code",
   "execution_count": null,
   "metadata": {
    "collapsed": true
   },
   "outputs": [],
   "source": []
  }
 ],
 "metadata": {
  "kernelspec": {
   "display_name": "Python 2",
   "language": "python",
   "name": "python2"
  },
  "language_info": {
   "codemirror_mode": {
    "name": "ipython",
    "version": 2
   },
   "file_extension": ".py",
   "mimetype": "text/x-python",
   "name": "python",
   "nbconvert_exporter": "python",
   "pygments_lexer": "ipython2",
   "version": "2.7.13"
  }
 },
 "nbformat": 4,
 "nbformat_minor": 2
}
